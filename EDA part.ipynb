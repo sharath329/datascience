{
 "cells": [
  {
   "cell_type": "code",
   "execution_count": 19,
   "metadata": {},
   "outputs": [],
   "source": [
    "import numpy as np\n",
    "import pandas as pd\n",
    "import seaborn as sns\n",
    "import matplotlib.pyplot as plt\n",
    "from scipy.stats import skew, norm, probplot, boxcox, f_oneway"
   ]
  },
  {
   "cell_type": "code",
   "execution_count": 2,
   "metadata": {},
   "outputs": [
    {
     "data": {
      "text/html": [
       "<div>\n",
       "<style scoped>\n",
       "    .dataframe tbody tr th:only-of-type {\n",
       "        vertical-align: middle;\n",
       "    }\n",
       "\n",
       "    .dataframe tbody tr th {\n",
       "        vertical-align: top;\n",
       "    }\n",
       "\n",
       "    .dataframe thead th {\n",
       "        text-align: right;\n",
       "    }\n",
       "</style>\n",
       "<table border=\"1\" class=\"dataframe\">\n",
       "  <thead>\n",
       "    <tr style=\"text-align: right;\">\n",
       "      <th></th>\n",
       "      <th>Cement</th>\n",
       "      <th>Slag</th>\n",
       "      <th>Fly ash</th>\n",
       "      <th>Water</th>\n",
       "      <th>SP</th>\n",
       "      <th>Coarse</th>\n",
       "      <th>Fine</th>\n",
       "      <th>SLUMP</th>\n",
       "      <th>FLOW</th>\n",
       "      <th>Strength</th>\n",
       "    </tr>\n",
       "  </thead>\n",
       "  <tbody>\n",
       "    <tr>\n",
       "      <th>0</th>\n",
       "      <td>273.0</td>\n",
       "      <td>82.0</td>\n",
       "      <td>105.0</td>\n",
       "      <td>210.0</td>\n",
       "      <td>9.0</td>\n",
       "      <td>904.0</td>\n",
       "      <td>680.0</td>\n",
       "      <td>23.0</td>\n",
       "      <td>62.0</td>\n",
       "      <td>34.99</td>\n",
       "    </tr>\n",
       "    <tr>\n",
       "      <th>1</th>\n",
       "      <td>163.0</td>\n",
       "      <td>149.0</td>\n",
       "      <td>191.0</td>\n",
       "      <td>180.0</td>\n",
       "      <td>12.0</td>\n",
       "      <td>843.0</td>\n",
       "      <td>746.0</td>\n",
       "      <td>0.0</td>\n",
       "      <td>20.0</td>\n",
       "      <td>41.14</td>\n",
       "    </tr>\n",
       "    <tr>\n",
       "      <th>2</th>\n",
       "      <td>162.0</td>\n",
       "      <td>148.0</td>\n",
       "      <td>191.0</td>\n",
       "      <td>179.0</td>\n",
       "      <td>16.0</td>\n",
       "      <td>840.0</td>\n",
       "      <td>743.0</td>\n",
       "      <td>1.0</td>\n",
       "      <td>20.0</td>\n",
       "      <td>41.81</td>\n",
       "    </tr>\n",
       "    <tr>\n",
       "      <th>3</th>\n",
       "      <td>162.0</td>\n",
       "      <td>148.0</td>\n",
       "      <td>190.0</td>\n",
       "      <td>179.0</td>\n",
       "      <td>19.0</td>\n",
       "      <td>838.0</td>\n",
       "      <td>741.0</td>\n",
       "      <td>3.0</td>\n",
       "      <td>21.5</td>\n",
       "      <td>42.08</td>\n",
       "    </tr>\n",
       "    <tr>\n",
       "      <th>4</th>\n",
       "      <td>154.0</td>\n",
       "      <td>112.0</td>\n",
       "      <td>144.0</td>\n",
       "      <td>220.0</td>\n",
       "      <td>10.0</td>\n",
       "      <td>923.0</td>\n",
       "      <td>658.0</td>\n",
       "      <td>20.0</td>\n",
       "      <td>64.0</td>\n",
       "      <td>26.82</td>\n",
       "    </tr>\n",
       "  </tbody>\n",
       "</table>\n",
       "</div>"
      ],
      "text/plain": [
       "   Cement   Slag  Fly ash  Water    SP  Coarse   Fine  SLUMP  FLOW  Strength\n",
       "0   273.0   82.0    105.0  210.0   9.0   904.0  680.0   23.0  62.0     34.99\n",
       "1   163.0  149.0    191.0  180.0  12.0   843.0  746.0    0.0  20.0     41.14\n",
       "2   162.0  148.0    191.0  179.0  16.0   840.0  743.0    1.0  20.0     41.81\n",
       "3   162.0  148.0    190.0  179.0  19.0   838.0  741.0    3.0  21.5     42.08\n",
       "4   154.0  112.0    144.0  220.0  10.0   923.0  658.0   20.0  64.0     26.82"
      ]
     },
     "execution_count": 2,
     "metadata": {},
     "output_type": "execute_result"
    }
   ],
   "source": [
    "slumptest = pd.read_csv('C:/Users/kasoju/Desktop/KASOJU/PGDSBA/week4/Slump_Test.csv')\n",
    "slumptest.head()"
   ]
  },
  {
   "cell_type": "code",
   "execution_count": 6,
   "metadata": {},
   "outputs": [
    {
     "data": {
      "text/plain": [
       "0      34.99\n",
       "1      41.14\n",
       "2      41.81\n",
       "3      42.08\n",
       "4      26.82\n",
       "       ...  \n",
       "98     49.97\n",
       "99     50.23\n",
       "100    50.50\n",
       "101    49.17\n",
       "102    48.77\n",
       "Name: Strength, Length: 103, dtype: float64"
      ]
     },
     "execution_count": 6,
     "metadata": {},
     "output_type": "execute_result"
    }
   ],
   "source": [
    "strength = slumptest['Strength']\n",
    "strength"
   ]
  },
  {
   "cell_type": "code",
   "execution_count": 7,
   "metadata": {},
   "outputs": [
    {
     "data": {
      "text/plain": [
       "0     26.42\n",
       "1     28.29\n",
       "2     29.77\n",
       "3     30.43\n",
       "4     30.97\n",
       "5     32.71\n",
       "6     33.51\n",
       "7     33.78\n",
       "8     34.99\n",
       "9     35.52\n",
       "10    36.19\n",
       "11    37.39\n",
       "12    38.46\n",
       "13    41.01\n",
       "14    41.14\n",
       "15    41.27\n",
       "16    41.81\n",
       "17    42.08\n",
       "18    44.08\n",
       "19    52.65\n",
       "dtype: float64"
      ]
     },
     "execution_count": 7,
     "metadata": {},
     "output_type": "execute_result"
    }
   ],
   "source": [
    "strength.mode()"
   ]
  },
  {
   "cell_type": "code",
   "execution_count": 8,
   "metadata": {},
   "outputs": [
    {
     "data": {
      "text/plain": [
       "197.16796116504858"
      ]
     },
     "execution_count": 8,
     "metadata": {},
     "output_type": "execute_result"
    }
   ],
   "source": [
    "water_mean = slumptest['Water'].mean()\n",
    "water_mean"
   ]
  },
  {
   "cell_type": "code",
   "execution_count": 20,
   "metadata": {},
   "outputs": [
    {
     "data": {
      "image/png": "[encoded data removed]",
      "text/plain": [
       "<Figure size 432x288 with 1 Axes>"
      ]
     },
     "metadata": {
      "needs_background": "light"
     },
     "output_type": "display_data"
    }
   ],
   "source": [
    "plt.hist(slumptest['Fly ash'])\n",
    "plt.show()"
   ]
  },
  {
   "cell_type": "code",
   "execution_count": 21,
   "metadata": {},
   "outputs": [
    {
     "data": {
      "text/plain": [
       "149.0145631067961"
      ]
     },
     "execution_count": 21,
     "metadata": {},
     "output_type": "execute_result"
    }
   ],
   "source": [
    "slumptest['Fly ash'].mean()"
   ]
  },
  {
   "cell_type": "code",
   "execution_count": 22,
   "metadata": {},
   "outputs": [
    {
     "data": {
      "text/plain": [
       "164.0"
      ]
     },
     "execution_count": 22,
     "metadata": {},
     "output_type": "execute_result"
    }
   ],
   "source": [
    "slumptest['Fly ash'].median()"
   ]
  },
  {
   "cell_type": "code",
   "execution_count": 23,
   "metadata": {},
   "outputs": [
    {
     "data": {
      "text/plain": [
       "0    0.0\n",
       "dtype: float64"
      ]
     },
     "execution_count": 23,
     "metadata": {},
     "output_type": "execute_result"
    }
   ],
   "source": [
    "slumptest['Fly ash'].mode()"
   ]
  },
  {
   "cell_type": "code",
   "execution_count": 24,
   "metadata": {},
   "outputs": [
    {
     "data": {
      "text/plain": [
       "Index(['Cement', 'Slag', 'Fly ash', 'Water', 'SP', 'Coarse', 'Fine', 'SLUMP',\n",
       "       'FLOW', 'Strength'],\n",
       "      dtype='object')"
      ]
     },
     "execution_count": 24,
     "metadata": {},
     "output_type": "execute_result"
    }
   ],
   "source": [
    "slumptest.columns"
   ]
  },
  {
   "cell_type": "code",
   "execution_count": 26,
   "metadata": {},
   "outputs": [
    {
     "data": {
      "text/html": [
       "<div>\n",
       "<style scoped>\n",
       "    .dataframe tbody tr th:only-of-type {\n",
       "        vertical-align: middle;\n",
       "    }\n",
       "\n",
       "    .dataframe tbody tr th {\n",
       "        vertical-align: top;\n",
       "    }\n",
       "\n",
       "    .dataframe thead th {\n",
       "        text-align: right;\n",
       "    }\n",
       "</style>\n",
       "<table border=\"1\" class=\"dataframe\">\n",
       "  <thead>\n",
       "    <tr style=\"text-align: right;\">\n",
       "      <th></th>\n",
       "      <th>Cement</th>\n",
       "      <th>Slag</th>\n",
       "    </tr>\n",
       "  </thead>\n",
       "  <tbody>\n",
       "    <tr>\n",
       "      <th>0</th>\n",
       "      <td>273.0</td>\n",
       "      <td>82.0</td>\n",
       "    </tr>\n",
       "    <tr>\n",
       "      <th>1</th>\n",
       "      <td>163.0</td>\n",
       "      <td>149.0</td>\n",
       "    </tr>\n",
       "    <tr>\n",
       "      <th>2</th>\n",
       "      <td>162.0</td>\n",
       "      <td>148.0</td>\n",
       "    </tr>\n",
       "    <tr>\n",
       "      <th>3</th>\n",
       "      <td>162.0</td>\n",
       "      <td>148.0</td>\n",
       "    </tr>\n",
       "    <tr>\n",
       "      <th>4</th>\n",
       "      <td>154.0</td>\n",
       "      <td>112.0</td>\n",
       "    </tr>\n",
       "    <tr>\n",
       "      <th>...</th>\n",
       "      <td>...</td>\n",
       "      <td>...</td>\n",
       "    </tr>\n",
       "    <tr>\n",
       "      <th>98</th>\n",
       "      <td>248.3</td>\n",
       "      <td>101.0</td>\n",
       "    </tr>\n",
       "    <tr>\n",
       "      <th>99</th>\n",
       "      <td>248.0</td>\n",
       "      <td>101.0</td>\n",
       "    </tr>\n",
       "    <tr>\n",
       "      <th>100</th>\n",
       "      <td>258.8</td>\n",
       "      <td>88.0</td>\n",
       "    </tr>\n",
       "    <tr>\n",
       "      <th>101</th>\n",
       "      <td>297.1</td>\n",
       "      <td>40.9</td>\n",
       "    </tr>\n",
       "    <tr>\n",
       "      <th>102</th>\n",
       "      <td>348.7</td>\n",
       "      <td>0.1</td>\n",
       "    </tr>\n",
       "  </tbody>\n",
       "</table>\n",
       "<p>103 rows × 2 columns</p>\n",
       "</div>"
      ],
      "text/plain": [
       "     Cement   Slag\n",
       "0     273.0   82.0\n",
       "1     163.0  149.0\n",
       "2     162.0  148.0\n",
       "3     162.0  148.0\n",
       "4     154.0  112.0\n",
       "..      ...    ...\n",
       "98    248.3  101.0\n",
       "99    248.0  101.0\n",
       "100   258.8   88.0\n",
       "101   297.1   40.9\n",
       "102   348.7    0.1\n",
       "\n",
       "[103 rows x 2 columns]"
      ]
     },
     "execution_count": 26,
     "metadata": {},
     "output_type": "execute_result"
    }
   ],
   "source": [
    "cement_slag = slumptest[['Cement','Slag']]\n",
    "cement_slag"
   ]
  },
  {
   "cell_type": "code",
   "execution_count": 27,
   "metadata": {},
   "outputs": [
    {
     "data": {
      "text/html": [
       "<div>\n",
       "<style scoped>\n",
       "    .dataframe tbody tr th:only-of-type {\n",
       "        vertical-align: middle;\n",
       "    }\n",
       "\n",
       "    .dataframe tbody tr th {\n",
       "        vertical-align: top;\n",
       "    }\n",
       "\n",
       "    .dataframe thead th {\n",
       "        text-align: right;\n",
       "    }\n",
       "</style>\n",
       "<table border=\"1\" class=\"dataframe\">\n",
       "  <thead>\n",
       "    <tr style=\"text-align: right;\">\n",
       "      <th></th>\n",
       "      <th>Cement</th>\n",
       "      <th>Slag</th>\n",
       "    </tr>\n",
       "  </thead>\n",
       "  <tbody>\n",
       "    <tr>\n",
       "      <th>Cement</th>\n",
       "      <td>6221.617417</td>\n",
       "      <td>-1161.508095</td>\n",
       "    </tr>\n",
       "    <tr>\n",
       "      <th>Slag</th>\n",
       "      <td>-1161.508095</td>\n",
       "      <td>3655.576463</td>\n",
       "    </tr>\n",
       "  </tbody>\n",
       "</table>\n",
       "</div>"
      ],
      "text/plain": [
       "             Cement         Slag\n",
       "Cement  6221.617417 -1161.508095\n",
       "Slag   -1161.508095  3655.576463"
      ]
     },
     "execution_count": 27,
     "metadata": {},
     "output_type": "execute_result"
    }
   ],
   "source": [
    "cement_slag.cov()"
   ]
  },
  {
   "cell_type": "code",
   "execution_count": 28,
   "metadata": {},
   "outputs": [
    {
     "data": {
      "text/html": [
       "<div>\n",
       "<style scoped>\n",
       "    .dataframe tbody tr th:only-of-type {\n",
       "        vertical-align: middle;\n",
       "    }\n",
       "\n",
       "    .dataframe tbody tr th {\n",
       "        vertical-align: top;\n",
       "    }\n",
       "\n",
       "    .dataframe thead th {\n",
       "        text-align: right;\n",
       "    }\n",
       "</style>\n",
       "<table border=\"1\" class=\"dataframe\">\n",
       "  <thead>\n",
       "    <tr style=\"text-align: right;\">\n",
       "      <th></th>\n",
       "      <th>Slag</th>\n",
       "      <th>Cement</th>\n",
       "    </tr>\n",
       "  </thead>\n",
       "  <tbody>\n",
       "    <tr>\n",
       "      <th>0</th>\n",
       "      <td>82.0</td>\n",
       "      <td>273.0</td>\n",
       "    </tr>\n",
       "    <tr>\n",
       "      <th>1</th>\n",
       "      <td>149.0</td>\n",
       "      <td>163.0</td>\n",
       "    </tr>\n",
       "    <tr>\n",
       "      <th>2</th>\n",
       "      <td>148.0</td>\n",
       "      <td>162.0</td>\n",
       "    </tr>\n",
       "    <tr>\n",
       "      <th>3</th>\n",
       "      <td>148.0</td>\n",
       "      <td>162.0</td>\n",
       "    </tr>\n",
       "    <tr>\n",
       "      <th>4</th>\n",
       "      <td>112.0</td>\n",
       "      <td>154.0</td>\n",
       "    </tr>\n",
       "    <tr>\n",
       "      <th>...</th>\n",
       "      <td>...</td>\n",
       "      <td>...</td>\n",
       "    </tr>\n",
       "    <tr>\n",
       "      <th>98</th>\n",
       "      <td>101.0</td>\n",
       "      <td>248.3</td>\n",
       "    </tr>\n",
       "    <tr>\n",
       "      <th>99</th>\n",
       "      <td>101.0</td>\n",
       "      <td>248.0</td>\n",
       "    </tr>\n",
       "    <tr>\n",
       "      <th>100</th>\n",
       "      <td>88.0</td>\n",
       "      <td>258.8</td>\n",
       "    </tr>\n",
       "    <tr>\n",
       "      <th>101</th>\n",
       "      <td>40.9</td>\n",
       "      <td>297.1</td>\n",
       "    </tr>\n",
       "    <tr>\n",
       "      <th>102</th>\n",
       "      <td>0.1</td>\n",
       "      <td>348.7</td>\n",
       "    </tr>\n",
       "  </tbody>\n",
       "</table>\n",
       "<p>103 rows × 2 columns</p>\n",
       "</div>"
      ],
      "text/plain": [
       "      Slag  Cement\n",
       "0     82.0   273.0\n",
       "1    149.0   163.0\n",
       "2    148.0   162.0\n",
       "3    148.0   162.0\n",
       "4    112.0   154.0\n",
       "..     ...     ...\n",
       "98   101.0   248.3\n",
       "99   101.0   248.0\n",
       "100   88.0   258.8\n",
       "101   40.9   297.1\n",
       "102    0.1   348.7\n",
       "\n",
       "[103 rows x 2 columns]"
      ]
     },
     "execution_count": 28,
     "metadata": {},
     "output_type": "execute_result"
    }
   ],
   "source": [
    "slag_cement = slumptest[['Slag','Cement']]\n",
    "slag_cement"
   ]
  },
  {
   "cell_type": "code",
   "execution_count": 29,
   "metadata": {},
   "outputs": [
    {
     "data": {
      "text/html": [
       "<div>\n",
       "<style scoped>\n",
       "    .dataframe tbody tr th:only-of-type {\n",
       "        vertical-align: middle;\n",
       "    }\n",
       "\n",
       "    .dataframe tbody tr th {\n",
       "        vertical-align: top;\n",
       "    }\n",
       "\n",
       "    .dataframe thead th {\n",
       "        text-align: right;\n",
       "    }\n",
       "</style>\n",
       "<table border=\"1\" class=\"dataframe\">\n",
       "  <thead>\n",
       "    <tr style=\"text-align: right;\">\n",
       "      <th></th>\n",
       "      <th>Slag</th>\n",
       "      <th>Cement</th>\n",
       "    </tr>\n",
       "  </thead>\n",
       "  <tbody>\n",
       "    <tr>\n",
       "      <th>Slag</th>\n",
       "      <td>3655.576463</td>\n",
       "      <td>-1161.508095</td>\n",
       "    </tr>\n",
       "    <tr>\n",
       "      <th>Cement</th>\n",
       "      <td>-1161.508095</td>\n",
       "      <td>6221.617417</td>\n",
       "    </tr>\n",
       "  </tbody>\n",
       "</table>\n",
       "</div>"
      ],
      "text/plain": [
       "               Slag       Cement\n",
       "Slag    3655.576463 -1161.508095\n",
       "Cement -1161.508095  6221.617417"
      ]
     },
     "execution_count": 29,
     "metadata": {},
     "output_type": "execute_result"
    }
   ],
   "source": [
    "slag_cement.cov()"
   ]
  },
  {
   "cell_type": "code",
   "execution_count": 30,
   "metadata": {},
   "outputs": [
    {
     "data": {
      "text/html": [
       "<div>\n",
       "<style scoped>\n",
       "    .dataframe tbody tr th:only-of-type {\n",
       "        vertical-align: middle;\n",
       "    }\n",
       "\n",
       "    .dataframe tbody tr th {\n",
       "        vertical-align: top;\n",
       "    }\n",
       "\n",
       "    .dataframe thead th {\n",
       "        text-align: right;\n",
       "    }\n",
       "</style>\n",
       "<table border=\"1\" class=\"dataframe\">\n",
       "  <thead>\n",
       "    <tr style=\"text-align: right;\">\n",
       "      <th></th>\n",
       "      <th>Coarse</th>\n",
       "      <th>Cement</th>\n",
       "    </tr>\n",
       "  </thead>\n",
       "  <tbody>\n",
       "    <tr>\n",
       "      <th>Coarse</th>\n",
       "      <td>1.000000</td>\n",
       "      <td>-0.309857</td>\n",
       "    </tr>\n",
       "    <tr>\n",
       "      <th>Cement</th>\n",
       "      <td>-0.309857</td>\n",
       "      <td>1.000000</td>\n",
       "    </tr>\n",
       "  </tbody>\n",
       "</table>\n",
       "</div>"
      ],
      "text/plain": [
       "          Coarse    Cement\n",
       "Coarse  1.000000 -0.309857\n",
       "Cement -0.309857  1.000000"
      ]
     },
     "execution_count": 30,
     "metadata": {},
     "output_type": "execute_result"
    }
   ],
   "source": [
    "corr_coef = slumptest[['Coarse','Cement']].corr()\n",
    "corr_coef"
   ]
  },
  {
   "cell_type": "code",
   "execution_count": 32,
   "metadata": {},
   "outputs": [
    {
     "data": {
      "text/plain": [
       "Cement      0.145140\n",
       "Slag       -0.193079\n",
       "Fly ash    -0.680019\n",
       "Water       0.263532\n",
       "SP          1.125753\n",
       "Coarse      0.121009\n",
       "Fine        0.265958\n",
       "SLUMP      -1.112837\n",
       "FLOW       -0.520705\n",
       "Strength    0.192235\n",
       "dtype: float64"
      ]
     },
     "execution_count": 32,
     "metadata": {},
     "output_type": "execute_result"
    }
   ],
   "source": [
    "skewness = slumptest.skew()\n",
    "skewness"
   ]
  },
  {
   "cell_type": "code",
   "execution_count": 39,
   "metadata": {},
   "outputs": [
    {
     "data": {
      "text/plain": [
       "0.0"
      ]
     },
     "execution_count": 39,
     "metadata": {},
     "output_type": "execute_result"
    }
   ],
   "source": [
    "negative_skewness = skewness[abs(skewness)<-0].sum()\n",
    "negative_skewness\n",
    "\n",
    "\n"
   ]
  },
  {
   "cell_type": "code",
   "execution_count": 41,
   "metadata": {},
   "outputs": [
    {
     "data": {
      "text/plain": [
       "Cement      0\n",
       "Slag        0\n",
       "Fly ash     0\n",
       "Water       0\n",
       "SP          0\n",
       "Coarse      0\n",
       "Fine        0\n",
       "SLUMP       0\n",
       "FLOW        0\n",
       "Strength    0\n",
       "dtype: int64"
      ]
     },
     "execution_count": 41,
     "metadata": {},
     "output_type": "execute_result"
    }
   ],
   "source": [
    "missing_data = slumptest.isnull().sum()\n",
    "missing_data"
   ]
  },
  {
   "cell_type": "code",
   "execution_count": 48,
   "metadata": {},
   "outputs": [
    {
     "data": {
      "text/html": [
       "<div>\n",
       "<style scoped>\n",
       "    .dataframe tbody tr th:only-of-type {\n",
       "        vertical-align: middle;\n",
       "    }\n",
       "\n",
       "    .dataframe tbody tr th {\n",
       "        vertical-align: top;\n",
       "    }\n",
       "\n",
       "    .dataframe thead th {\n",
       "        text-align: right;\n",
       "    }\n",
       "</style>\n",
       "<table border=\"1\" class=\"dataframe\">\n",
       "  <thead>\n",
       "    <tr style=\"text-align: right;\">\n",
       "      <th></th>\n",
       "      <th>FLOW</th>\n",
       "    </tr>\n",
       "  </thead>\n",
       "  <tbody>\n",
       "    <tr>\n",
       "      <th>0</th>\n",
       "      <td>62.0</td>\n",
       "    </tr>\n",
       "    <tr>\n",
       "      <th>1</th>\n",
       "      <td>20.0</td>\n",
       "    </tr>\n",
       "    <tr>\n",
       "      <th>2</th>\n",
       "      <td>20.0</td>\n",
       "    </tr>\n",
       "    <tr>\n",
       "      <th>3</th>\n",
       "      <td>21.5</td>\n",
       "    </tr>\n",
       "    <tr>\n",
       "      <th>4</th>\n",
       "      <td>64.0</td>\n",
       "    </tr>\n",
       "    <tr>\n",
       "      <th>...</th>\n",
       "      <td>...</td>\n",
       "    </tr>\n",
       "    <tr>\n",
       "      <th>98</th>\n",
       "      <td>20.0</td>\n",
       "    </tr>\n",
       "    <tr>\n",
       "      <th>99</th>\n",
       "      <td>20.0</td>\n",
       "    </tr>\n",
       "    <tr>\n",
       "      <th>100</th>\n",
       "      <td>20.0</td>\n",
       "    </tr>\n",
       "    <tr>\n",
       "      <th>101</th>\n",
       "      <td>67.0</td>\n",
       "    </tr>\n",
       "    <tr>\n",
       "      <th>102</th>\n",
       "      <td>78.0</td>\n",
       "    </tr>\n",
       "  </tbody>\n",
       "</table>\n",
       "<p>103 rows × 1 columns</p>\n",
       "</div>"
      ],
      "text/plain": [
       "     FLOW\n",
       "0    62.0\n",
       "1    20.0\n",
       "2    20.0\n",
       "3    21.5\n",
       "4    64.0\n",
       "..    ...\n",
       "98   20.0\n",
       "99   20.0\n",
       "100  20.0\n",
       "101  67.0\n",
       "102  78.0\n",
       "\n",
       "[103 rows x 1 columns]"
      ]
     },
     "execution_count": 48,
     "metadata": {},
     "output_type": "execute_result"
    }
   ],
   "source": [
    "flow = slumptest[['FLOW']]\n",
    "flow"
   ]
  },
  {
   "cell_type": "code",
   "execution_count": 51,
   "metadata": {},
   "outputs": [
    {
     "data": {
      "text/plain": [
       "52"
      ]
     },
     "execution_count": 51,
     "metadata": {},
     "output_type": "execute_result"
    }
   ],
   "source": [
    "flow_duplicates = flow.duplicated()\n",
    "sum(flow_duplicates)"
   ]
  },
  {
   "cell_type": "code",
   "execution_count": 56,
   "metadata": {},
   "outputs": [
    {
     "data": {
      "text/plain": [
       "Cement      float64\n",
       "Slag        float64\n",
       "Fly ash     float64\n",
       "Water       float64\n",
       "SP          float64\n",
       "Coarse      float64\n",
       "Fine        float64\n",
       "SLUMP       float64\n",
       "FLOW        float64\n",
       "Strength    float64\n",
       "dtype: object"
      ]
     },
     "execution_count": 56,
     "metadata": {},
     "output_type": "execute_result"
    }
   ],
   "source": [
    "slumptest.dtypes\n"
   ]
  },
  {
   "cell_type": "code",
   "execution_count": 61,
   "metadata": {},
   "outputs": [
    {
     "data": {
      "text/plain": [
       "<matplotlib.axes._subplots.AxesSubplot at 0x2388cf9f460>"
      ]
     },
     "execution_count": 61,
     "metadata": {},
     "output_type": "execute_result"
    },
    {
     "data": {
      "image/png": "[encoded data removed]",
      "text/plain": [
       "<Figure size 432x288 with 1 Axes>"
      ]
     },
     "metadata": {
      "needs_background": "light"
     },
     "output_type": "display_data"
    }
   ],
   "source": [
    "sns.boxplot(strength)"
   ]
  },
  {
   "cell_type": "code",
   "execution_count": 67,
   "metadata": {},
   "outputs": [
    {
     "data": {
      "image/png": "[encoded data removed]",
      "text/plain": [
       "<Figure size 1152x576 with 1 Axes>"
      ]
     },
     "metadata": {
      "needs_background": "light"
     },
     "output_type": "display_data"
    }
   ],
   "source": [
    "\n",
    "\n",
    "fig, ax = plt.subplots(figsize=(16,8))   # setting the figure size of the plot\n",
    "ax.scatter(slumptest['FLOW'], slumptest['SLUMP'])  # scatter plot\n",
    "ax.set_xlabel('SLUMP')\n",
    "ax.set_ylabel('FLOW')\n",
    "plt.show()"
   ]
  },
  {
   "cell_type": "code",
   "execution_count": 68,
   "metadata": {},
   "outputs": [
    {
     "name": "stdout",
     "output_type": "stream",
     "text": [
      "[[0.54916499 0.06691714 0.51780366 ... 0.56859301 0.7086448  0.13453916]\n",
      " [0.85222678 1.18048168 0.49393227 ... 2.07257727 1.69367274 0.65391335]\n",
      " [0.8649667  1.16386132 0.49393227 ... 1.95774378 1.69367274 0.7398098 ]\n",
      " ...\n",
      " [0.36825805 0.16663934 1.06568072 ... 2.07257727 1.69367274 1.8538996 ]\n",
      " [0.85619718 0.61617991 1.06921003 ... 1.08534372 0.99463498 1.68338873]\n",
      " [1.51357732 1.29429085 0.87156859 ... 1.25759395 1.62381339 1.63210727]]\n"
     ]
    }
   ],
   "source": [
    "from scipy import stats\n",
    "\n",
    "zscore = np.abs(stats.zscore(slumptest))   # get the z-score of every value with respect to their columns\n",
    "print(zscore)"
   ]
  },
  {
   "cell_type": "code",
   "execution_count": 70,
   "metadata": {},
   "outputs": [
    {
     "data": {
      "text/plain": [
       "(array([  0,   0,   0,   0,   0,   0,   0,   0,   0,   0,   1,   1,   1,\n",
       "          1,   1,   1,   2,   2,   2,   2,   2,   2,   3,   3,   3,   3,\n",
       "          3,   3,   4,   4,   4,   4,   4,   4,   4,   5,   5,   5,   5,\n",
       "          5,   5,   5,   6,   6,   6,   6,   6,   7,   7,   7,   7,   7,\n",
       "          8,   8,   8,   8,   8,   8,   9,   9,   9,   9,   9,   9,   9,\n",
       "          9,   9,  10,  10,  10,  10,  10,  10,  11,  11,  11,  11,  11,\n",
       "         11,  12,  12,  12,  12,  12,  12,  12,  13,  13,  13,  13,  13,\n",
       "         13,  14,  14,  14,  14,  14,  14,  15,  15,  15,  15,  15,  15,\n",
       "         15,  15,  16,  16,  16,  16,  16,  16,  16,  17,  17,  17,  17,\n",
       "         17,  17,  17,  17,  18,  18,  18,  18,  18,  19,  19,  19,  19,\n",
       "         19,  19,  19,  19,  20,  20,  20,  20,  20,  20,  20,  20,  20,\n",
       "         21,  21,  21,  21,  21,  22,  22,  22,  23,  23,  23,  23,  23,\n",
       "         23,  24,  24,  24,  24,  24,  24,  25,  25,  25,  25,  25,  25,\n",
       "         25,  25,  26,  26,  26,  26,  26,  26,  26,  26,  27,  27,  27,\n",
       "         27,  27,  27,  27,  27,  28,  28,  28,  28,  28,  28,  28,  28,\n",
       "         29,  29,  29,  29,  29,  29,  29,  29,  30,  30,  30,  30,  30,\n",
       "         30,  31,  31,  31,  31,  32,  32,  32,  32,  32,  32,  32,  33,\n",
       "         33,  33,  33,  33,  33,  33,  34,  34,  34,  34,  35,  35,  35,\n",
       "         35,  35,  35,  35,  35,  35,  36,  36,  36,  36,  36,  36,  36,\n",
       "         36,  36,  37,  37,  37,  37,  38,  38,  38,  38,  38,  38,  39,\n",
       "         39,  39,  39,  39,  39,  39,  40,  40,  40,  40,  40,  41,  41,\n",
       "         41,  41,  41,  41,  41,  41,  42,  42,  42,  42,  42,  42,  42,\n",
       "         42,  42,  43,  43,  43,  43,  43,  43,  43,  43,  44,  44,  44,\n",
       "         44,  44,  44,  45,  45,  45,  45,  45,  45,  45,  45,  46,  46,\n",
       "         46,  46,  46,  46,  46,  46,  46,  46,  47,  47,  47,  47,  47,\n",
       "         47,  47,  47,  47,  47,  48,  48,  48,  49,  49,  49,  49,  49,\n",
       "         49,  50,  50,  50,  50,  50,  50,  50,  51,  51,  51,  51,  51,\n",
       "         51,  52,  52,  52,  52,  52,  53,  53,  53,  53,  53,  53,  53,\n",
       "         54,  54,  54,  54,  54,  54,  54,  55,  55,  55,  55,  55,  56,\n",
       "         56,  56,  56,  56,  56,  56,  56,  56,  57,  57,  57,  57,  57,\n",
       "         57,  57,  57,  58,  58,  58,  58,  58,  58,  59,  59,  59,  59,\n",
       "         59,  59,  59,  60,  60,  60,  60,  60,  60,  60,  60,  60,  61,\n",
       "         61,  61,  61,  61,  61,  61,  62,  62,  62,  62,  62,  62,  62,\n",
       "         62,  62,  63,  63,  63,  63,  63,  63,  63,  64,  64,  64,  64,\n",
       "         64,  64,  64,  64,  64,  65,  65,  65,  65,  65,  66,  66,  66,\n",
       "         66,  66,  67,  67,  67,  67,  67,  67,  68,  68,  68,  68,  68,\n",
       "         69,  69,  69,  69,  69,  69,  70,  70,  70,  70,  70,  70,  70,\n",
       "         71,  71,  71,  71,  71,  72,  72,  72,  72,  72,  72,  72,  73,\n",
       "         73,  73,  73,  73,  73,  73,  73,  73,  74,  74,  74,  74,  74,\n",
       "         74,  74,  74,  75,  75,  75,  75,  75,  75,  75,  75,  75,  76,\n",
       "         76,  76,  76,  76,  76,  76,  77,  77,  77,  77,  77,  77,  77,\n",
       "         77,  77,  77,  78,  78,  78,  78,  79,  79,  79,  79,  79,  79,\n",
       "         80,  80,  80,  80,  80,  81,  81,  81,  81,  81,  82,  82,  82,\n",
       "         82,  83,  83,  83,  83,  83,  84,  84,  84,  84,  84,  85,  85,\n",
       "         85,  85,  85,  85,  86,  86,  86,  86,  86,  86,  87,  87,  87,\n",
       "         87,  88,  88,  88,  88,  89,  89,  89,  89,  89,  90,  90,  90,\n",
       "         90,  90,  90,  90,  90,  91,  91,  91,  91,  91,  91,  92,  92,\n",
       "         92,  92,  93,  93,  93,  93,  94,  94,  94,  94,  95,  95,  95,\n",
       "         95,  95,  96,  96,  96,  96,  96,  96,  96,  97,  97,  97,  97,\n",
       "         98,  98,  98,  98,  99,  99,  99,  99, 100, 100, 100, 100, 101,\n",
       "        101, 101, 101, 101, 101, 102, 102, 102, 102], dtype=int64),\n",
       " array([0, 1, 2, 3, 4, 5, 6, 7, 8, 9, 0, 2, 3, 5, 6, 9, 0, 2, 3, 5, 6, 9,\n",
       "        0, 2, 3, 5, 6, 9, 0, 1, 2, 4, 5, 7, 8, 1, 2, 3, 4, 5, 7, 8, 0, 2,\n",
       "        5, 6, 9, 2, 4, 7, 8, 9, 0, 3, 4, 7, 8, 9, 0, 2, 3, 4, 5, 6, 7, 8,\n",
       "        9, 1, 2, 3, 4, 7, 8, 1, 2, 3, 4, 7, 8, 1, 2, 3, 4, 7, 8, 9, 4, 5,\n",
       "        6, 7, 8, 9, 3, 4, 6, 7, 8, 9, 0, 1, 2, 5, 6, 7, 8, 9, 0, 3, 4, 6,\n",
       "        7, 8, 9, 0, 1, 2, 3, 4, 6, 7, 9, 2, 4, 5, 7, 8, 0, 1, 4, 5, 6, 7,\n",
       "        8, 9, 0, 1, 3, 4, 5, 6, 7, 8, 9, 2, 4, 7, 8, 9, 3, 4, 6, 3, 4, 5,\n",
       "        6, 7, 8, 1, 2, 4, 5, 6, 9, 1, 2, 3, 5, 6, 7, 8, 9, 0, 1, 2, 3, 4,\n",
       "        6, 7, 9, 0, 1, 2, 3, 4, 5, 7, 9, 0, 1, 2, 3, 4, 5, 7, 9, 2, 3, 4,\n",
       "        5, 6, 7, 8, 9, 2, 3, 5, 6, 7, 8, 2, 4, 6, 7, 2, 3, 4, 5, 6, 7, 8,\n",
       "        0, 1, 2, 3, 4, 7, 9, 2, 4, 6, 9, 0, 1, 2, 3, 5, 6, 7, 8, 9, 0, 1,\n",
       "        2, 3, 4, 5, 7, 8, 9, 0, 3, 6, 7, 0, 4, 6, 7, 8, 9, 0, 3, 4, 6, 7,\n",
       "        8, 9, 2, 3, 4, 6, 9, 0, 2, 4, 5, 6, 7, 8, 9, 0, 2, 3, 4, 5, 6, 7,\n",
       "        8, 9, 0, 1, 3, 4, 5, 6, 7, 8, 0, 1, 3, 4, 5, 9, 1, 3, 4, 5, 6, 7,\n",
       "        8, 9, 0, 1, 2, 3, 4, 5, 6, 7, 8, 9, 0, 1, 2, 3, 4, 5, 6, 7, 8, 9,\n",
       "        2, 4, 5, 2, 4, 5, 6, 7, 8, 2, 3, 4, 5, 6, 7, 8, 1, 4, 6, 7, 8, 9,\n",
       "        3, 4, 5, 6, 9, 2, 4, 5, 6, 7, 8, 9, 2, 3, 4, 5, 6, 7, 8, 0, 3, 5,\n",
       "        7, 8, 0, 1, 3, 4, 5, 6, 7, 8, 9, 1, 3, 4, 5, 6, 7, 8, 9, 1, 2, 3,\n",
       "        4, 5, 7, 1, 2, 4, 5, 7, 8, 9, 0, 2, 3, 4, 5, 6, 7, 8, 9, 0, 2, 4,\n",
       "        5, 7, 8, 9, 0, 1, 3, 4, 5, 6, 7, 8, 9, 0, 1, 4, 5, 6, 7, 9, 0, 1,\n",
       "        2, 3, 4, 5, 6, 8, 9, 0, 6, 7, 8, 9, 0, 6, 7, 8, 9, 0, 3, 5, 7, 8,\n",
       "        9, 1, 2, 3, 4, 6, 1, 4, 6, 7, 8, 9, 0, 1, 2, 3, 4, 5, 6, 1, 4, 6,\n",
       "        7, 8, 1, 3, 4, 5, 7, 8, 9, 0, 1, 2, 3, 4, 6, 7, 8, 9, 1, 2, 3, 4,\n",
       "        5, 6, 7, 8, 1, 2, 3, 4, 5, 6, 7, 8, 9, 0, 2, 4, 6, 7, 8, 9, 0, 1,\n",
       "        2, 3, 4, 5, 6, 7, 8, 9, 2, 6, 7, 9, 2, 3, 6, 7, 8, 9, 2, 3, 6, 7,\n",
       "        8, 2, 3, 6, 7, 8, 0, 4, 7, 9, 1, 6, 7, 8, 9, 1, 6, 7, 8, 9, 1, 3,\n",
       "        6, 7, 8, 9, 1, 3, 4, 5, 7, 8, 0, 4, 7, 9, 1, 4, 7, 9, 1, 4, 7, 8,\n",
       "        9, 0, 1, 3, 4, 5, 7, 8, 9, 0, 3, 4, 5, 7, 9, 0, 4, 6, 7, 0, 4, 5,\n",
       "        9, 0, 4, 5, 9, 0, 3, 4, 5, 9, 0, 1, 3, 4, 5, 8, 9, 0, 4, 6, 7, 0,\n",
       "        1, 4, 5, 0, 1, 4, 5, 0, 1, 4, 5, 0, 1, 3, 4, 5, 8, 2, 3, 4, 6],\n",
       "       dtype=int64))"
      ]
     },
     "execution_count": 70,
     "metadata": {},
     "output_type": "execute_result"
    }
   ],
   "source": [
    "threshold = 1\n",
    "np.where(zscore < threshold)"
   ]
  },
  {
   "cell_type": "code",
   "execution_count": 72,
   "metadata": {},
   "outputs": [
    {
     "name": "stdout",
     "output_type": "stream",
     "text": [
      "0.87156858845969\n"
     ]
    }
   ],
   "source": [
    "print(zscore[102][2])"
   ]
  },
  {
   "cell_type": "code",
   "execution_count": 73,
   "metadata": {},
   "outputs": [
    {
     "data": {
      "text/html": [
       "<div>\n",
       "<style scoped>\n",
       "    .dataframe tbody tr th:only-of-type {\n",
       "        vertical-align: middle;\n",
       "    }\n",
       "\n",
       "    .dataframe tbody tr th {\n",
       "        vertical-align: top;\n",
       "    }\n",
       "\n",
       "    .dataframe thead th {\n",
       "        text-align: right;\n",
       "    }\n",
       "</style>\n",
       "<table border=\"1\" class=\"dataframe\">\n",
       "  <thead>\n",
       "    <tr style=\"text-align: right;\">\n",
       "      <th></th>\n",
       "      <th>Fine</th>\n",
       "    </tr>\n",
       "  </thead>\n",
       "  <tbody>\n",
       "    <tr>\n",
       "      <th>0</th>\n",
       "      <td>680.0</td>\n",
       "    </tr>\n",
       "    <tr>\n",
       "      <th>1</th>\n",
       "      <td>746.0</td>\n",
       "    </tr>\n",
       "    <tr>\n",
       "      <th>2</th>\n",
       "      <td>743.0</td>\n",
       "    </tr>\n",
       "    <tr>\n",
       "      <th>3</th>\n",
       "      <td>741.0</td>\n",
       "    </tr>\n",
       "    <tr>\n",
       "      <th>4</th>\n",
       "      <td>658.0</td>\n",
       "    </tr>\n",
       "    <tr>\n",
       "      <th>...</th>\n",
       "      <td>...</td>\n",
       "    </tr>\n",
       "    <tr>\n",
       "      <th>98</th>\n",
       "      <td>640.6</td>\n",
       "    </tr>\n",
       "    <tr>\n",
       "      <th>99</th>\n",
       "      <td>644.1</td>\n",
       "    </tr>\n",
       "    <tr>\n",
       "      <th>100</th>\n",
       "      <td>646.0</td>\n",
       "    </tr>\n",
       "    <tr>\n",
       "      <th>101</th>\n",
       "      <td>651.8</td>\n",
       "    </tr>\n",
       "    <tr>\n",
       "      <th>102</th>\n",
       "      <td>758.1</td>\n",
       "    </tr>\n",
       "  </tbody>\n",
       "</table>\n",
       "<p>103 rows × 1 columns</p>\n",
       "</div>"
      ],
      "text/plain": [
       "      Fine\n",
       "0    680.0\n",
       "1    746.0\n",
       "2    743.0\n",
       "3    741.0\n",
       "4    658.0\n",
       "..     ...\n",
       "98   640.6\n",
       "99   644.1\n",
       "100  646.0\n",
       "101  651.8\n",
       "102  758.1\n",
       "\n",
       "[103 rows x 1 columns]"
      ]
     },
     "execution_count": 73,
     "metadata": {},
     "output_type": "execute_result"
    }
   ],
   "source": [
    "fine = slumptest[['Fine']]\n",
    "fine"
   ]
  },
  {
   "cell_type": "code",
   "execution_count": 75,
   "metadata": {},
   "outputs": [
    {
     "data": {
      "text/plain": [
       "Fine    103.5\n",
       "dtype: float64"
      ]
     },
     "execution_count": 75,
     "metadata": {},
     "output_type": "execute_result"
    }
   ],
   "source": [
    "fineIQR = fine.quantile(0.75)-fine.quantile(0.25)\n",
    "fineIQR"
   ]
  },
  {
   "cell_type": "code",
   "execution_count": 76,
   "metadata": {},
   "outputs": [
    {
     "data": {
      "text/html": [
       "<div>\n",
       "<style scoped>\n",
       "    .dataframe tbody tr th:only-of-type {\n",
       "        vertical-align: middle;\n",
       "    }\n",
       "\n",
       "    .dataframe tbody tr th {\n",
       "        vertical-align: top;\n",
       "    }\n",
       "\n",
       "    .dataframe thead th {\n",
       "        text-align: right;\n",
       "    }\n",
       "</style>\n",
       "<table border=\"1\" class=\"dataframe\">\n",
       "  <thead>\n",
       "    <tr style=\"text-align: right;\">\n",
       "      <th></th>\n",
       "      <th>Slag</th>\n",
       "    </tr>\n",
       "  </thead>\n",
       "  <tbody>\n",
       "    <tr>\n",
       "      <th>0</th>\n",
       "      <td>82.0</td>\n",
       "    </tr>\n",
       "    <tr>\n",
       "      <th>1</th>\n",
       "      <td>149.0</td>\n",
       "    </tr>\n",
       "    <tr>\n",
       "      <th>2</th>\n",
       "      <td>148.0</td>\n",
       "    </tr>\n",
       "    <tr>\n",
       "      <th>3</th>\n",
       "      <td>148.0</td>\n",
       "    </tr>\n",
       "    <tr>\n",
       "      <th>4</th>\n",
       "      <td>112.0</td>\n",
       "    </tr>\n",
       "    <tr>\n",
       "      <th>...</th>\n",
       "      <td>...</td>\n",
       "    </tr>\n",
       "    <tr>\n",
       "      <th>98</th>\n",
       "      <td>101.0</td>\n",
       "    </tr>\n",
       "    <tr>\n",
       "      <th>99</th>\n",
       "      <td>101.0</td>\n",
       "    </tr>\n",
       "    <tr>\n",
       "      <th>100</th>\n",
       "      <td>88.0</td>\n",
       "    </tr>\n",
       "    <tr>\n",
       "      <th>101</th>\n",
       "      <td>40.9</td>\n",
       "    </tr>\n",
       "    <tr>\n",
       "      <th>102</th>\n",
       "      <td>0.1</td>\n",
       "    </tr>\n",
       "  </tbody>\n",
       "</table>\n",
       "<p>103 rows × 1 columns</p>\n",
       "</div>"
      ],
      "text/plain": [
       "      Slag\n",
       "0     82.0\n",
       "1    149.0\n",
       "2    148.0\n",
       "3    148.0\n",
       "4    112.0\n",
       "..     ...\n",
       "98   101.0\n",
       "99   101.0\n",
       "100   88.0\n",
       "101   40.9\n",
       "102    0.1\n",
       "\n",
       "[103 rows x 1 columns]"
      ]
     },
     "execution_count": 76,
     "metadata": {},
     "output_type": "execute_result"
    }
   ],
   "source": [
    "slag = slumptest[['Slag']]\n",
    "slag"
   ]
  },
  {
   "cell_type": "code",
   "execution_count": 78,
   "metadata": {},
   "outputs": [
    {
     "data": {
      "image/png": "[encoded data removed]",
      "text/plain": [
       "<Figure size 432x288 with 1 Axes>"
      ]
     },
     "metadata": {
      "needs_background": "light"
     },
     "output_type": "display_data"
    }
   ],
   "source": [
    "plt.hist(slumptest['Slag'])\n",
    "plt.show()"
   ]
  },
  {
   "cell_type": "code",
   "execution_count": 80,
   "metadata": {},
   "outputs": [
    {
     "data": {
      "text/plain": [
       "[<matplotlib.lines.Line2D at 0x2388dd20bb0>]"
      ]
     },
     "execution_count": 80,
     "metadata": {},
     "output_type": "execute_result"
    },
    {
     "data": {
      "image/png": "[encoded data removed]",
      "text/plain": [
       "<Figure size 432x288 with 1 Axes>"
      ]
     },
     "metadata": {
      "needs_background": "light"
     },
     "output_type": "display_data"
    }
   ],
   "source": [
    "#obtain histogram values with 10 bins\n",
    "values, base = np.histogram(strength, bins=10)\n",
    "\n",
    "#find the cumulative sums\n",
    "cumulative = np.cumsum(values)\n",
    "\n",
    "# plot the ogive\n",
    "plt.plot(base[:-1], cumulative, 'ro-')"
   ]
  }
 ],
 "metadata": {
  "kernelspec": {
   "display_name": "Python 3",
   "language": "python",
   "name": "python3"
  },
  "language_info": {
   "codemirror_mode": {
    "name": "ipython",
    "version": 3
   },
   "file_extension": ".py",
   "mimetype": "text/x-python",
   "name": "python",
   "nbconvert_exporter": "python",
   "pygments_lexer": "ipython3",
   "version": "3.8.3"
  }
 },
 "nbformat": 4,
 "nbformat_minor": 4
}
