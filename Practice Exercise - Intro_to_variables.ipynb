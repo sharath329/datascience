{
 "cells": [
  {
   "cell_type": "markdown",
   "metadata": {},
   "source": [
    "# INTRO TO VARIABLE EXERCISE"
   ]
  },
  {
   "cell_type": "markdown",
   "metadata": {},
   "source": [
    "---------------------"
   ]
  },
  {
   "cell_type": "markdown",
   "metadata": {},
   "source": [
    "### 1. What will be the type of the *add* variable?\n",
    "a = 10\n",
    "\n",
    "b = 5.1\n",
    "\n",
    "add = a + b"
   ]
  },
  {
   "cell_type": "code",
   "execution_count": 4,
   "metadata": {},
   "outputs": [
    {
     "data": {
      "text/plain": [
       "float"
      ]
     },
     "execution_count": 4,
     "metadata": {},
     "output_type": "execute_result"
    }
   ],
   "source": [
    "a = 10\n",
    "\n",
    "b = 5.1\n",
    "\n",
    "add = a + b\n",
    "\n",
    "type(add)"
   ]
  },
  {
   "cell_type": "markdown",
   "metadata": {},
   "source": [
    "### 2. Is 5 == (3+2)?"
   ]
  },
  {
   "cell_type": "code",
   "execution_count": 7,
   "metadata": {},
   "outputs": [
    {
     "name": "stdout",
     "output_type": "stream",
     "text": [
      "true\n"
     ]
    }
   ],
   "source": [
    "if 5==(3+2):\n",
    "    print('true')\n",
    "else:\n",
    "    print('false')"
   ]
  },
  {
   "cell_type": "markdown",
   "metadata": {},
   "source": [
    "### 3. Add 33 in variable *a* and print the result\n",
    "\n",
    "a = 3"
   ]
  },
  {
   "cell_type": "code",
   "execution_count": 8,
   "metadata": {},
   "outputs": [
    {
     "name": "stdout",
     "output_type": "stream",
     "text": [
      "36\n"
     ]
    }
   ],
   "source": [
    "a=3\n",
    "a= a+33\n",
    "print(a)"
   ]
  },
  {
   "cell_type": "markdown",
   "metadata": {},
   "source": [
    "### 4. Convert integer variable *a* to float and check its type\n",
    "\n",
    "a = 3"
   ]
  },
  {
   "cell_type": "code",
   "execution_count": 10,
   "metadata": {},
   "outputs": [
    {
     "data": {
      "text/plain": [
       "float"
      ]
     },
     "execution_count": 10,
     "metadata": {},
     "output_type": "execute_result"
    }
   ],
   "source": [
    "a = 3\n",
    "a=float(a)\n",
    "type(a)"
   ]
  },
  {
   "cell_type": "markdown",
   "metadata": {},
   "source": [
    "### 5. What will be 5 times *a* if the value of a is 10?"
   ]
  },
  {
   "cell_type": "code",
   "execution_count": 11,
   "metadata": {},
   "outputs": [
    {
     "name": "stdout",
     "output_type": "stream",
     "text": [
      "50\n"
     ]
    }
   ],
   "source": [
    "def fun(a):\n",
    "    a = a*5\n",
    "    return a\n",
    "print(fun(10))\n",
    "    "
   ]
  },
  {
   "cell_type": "code",
   "execution_count": 22,
   "metadata": {},
   "outputs": [
    {
     "name": "stdout",
     "output_type": "stream",
     "text": [
      "50\n"
     ]
    }
   ],
   "source": [
    "a = 10\n",
    "print(5*a)"
   ]
  },
  {
   "cell_type": "markdown",
   "metadata": {},
   "source": [
    "### 6. Write a program to calculate the area of a triangle with base = 10 and height = 5\n",
    "\n",
    "Hint : area of triangle = 1/2 * base * height"
   ]
  },
  {
   "cell_type": "code",
   "execution_count": 13,
   "metadata": {},
   "outputs": [
    {
     "name": "stdout",
     "output_type": "stream",
     "text": [
      "area of triangle: 25.0\n"
     ]
    }
   ],
   "source": [
    "#base = 10\n",
    "#height = 5\n",
    "#area of triangle = 1/2*base*height\n",
    "\n",
    "base = 10\n",
    "height = 5\n",
    "area_of_triangle = 1/2*base*height\n",
    "print('area of triangle:', area_of_triangle)"
   ]
  },
  {
   "cell_type": "code",
   "execution_count": 17,
   "metadata": {},
   "outputs": [
    {
     "name": "stdout",
     "output_type": "stream",
     "text": [
      "25.0\n"
     ]
    }
   ],
   "source": [
    "def traingle_area():\n",
    "    base = 10\n",
    "    height = 5\n",
    "    area_of_triangle = 1/2*base*height\n",
    "    return area_of_triangle\n",
    "print(traingle_area())\n",
    "    "
   ]
  },
  {
   "cell_type": "markdown",
   "metadata": {},
   "source": [
    "### 7. What will be the value of *z* in the following expression:\n",
    "\n",
    "z = (v + w) * (x / y)\n",
    "\n",
    "If \n",
    "\n",
    "v = 10\n",
    "\n",
    "w = 25\n",
    "\n",
    "x = 70\n",
    "\n",
    "y = 2"
   ]
  },
  {
   "cell_type": "code",
   "execution_count": 21,
   "metadata": {},
   "outputs": [
    {
     "name": "stdout",
     "output_type": "stream",
     "text": [
      "1225.0\n"
     ]
    }
   ],
   "source": [
    "\n",
    "\n",
    "v = 10\n",
    "\n",
    "w = 25\n",
    "\n",
    "x = 70\n",
    "\n",
    "y = 2\n",
    "z = (v + w) * (x / y)\n",
    "print(z)"
   ]
  },
  {
   "cell_type": "markdown",
   "metadata": {},
   "source": [
    "### 8. Swap values of *a* and *b* \n",
    "If before swapping a = 10 and b = 5\n",
    "\n",
    "Then after swapping a = 5 and b = 10\n",
    "##### Values can not be hardcoded"
   ]
  },
  {
   "cell_type": "code",
   "execution_count": 29,
   "metadata": {},
   "outputs": [
    {
     "name": "stdout",
     "output_type": "stream",
     "text": [
      "A and B before swapping: 10 5\n",
      "A and B after swapping:: 5 10\n"
     ]
    }
   ],
   "source": [
    "a = 10\n",
    "b = 5\n",
    "print(\"A and B before swapping:\", (a),(b))\n",
    "c = a\n",
    "a = b\n",
    "b = c\n",
    "print(\"A and B after swapping::\", a,b)"
   ]
  },
  {
   "cell_type": "markdown",
   "metadata": {},
   "source": [
    "### 9. Convert 35 degree celcius temprature to fahrenheit"
   ]
  },
  {
   "cell_type": "code",
   "execution_count": 23,
   "metadata": {},
   "outputs": [
    {
     "name": "stdout",
     "output_type": "stream",
     "text": [
      "fahrenheit: 95.0\n"
     ]
    }
   ],
   "source": [
    "#°F = ℃ × 1.8 + 32\n",
    "celcius = 35\n",
    "fah = celcius*1.8+32\n",
    "print('fahrenheit:',fah)\n"
   ]
  },
  {
   "cell_type": "markdown",
   "metadata": {},
   "source": [
    "-------------"
   ]
  }
 ],
 "metadata": {
  "kernelspec": {
   "display_name": "Python 3",
   "language": "python",
   "name": "python3"
  },
  "language_info": {
   "codemirror_mode": {
    "name": "ipython",
    "version": 3
   },
   "file_extension": ".py",
   "mimetype": "text/x-python",
   "name": "python",
   "nbconvert_exporter": "python",
   "pygments_lexer": "ipython3",
   "version": "3.8.3"
  }
 },
 "nbformat": 4,
 "nbformat_minor": 4
}
